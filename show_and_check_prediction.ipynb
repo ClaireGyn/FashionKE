{
 "cells": [
  {
   "cell_type": "code",
   "execution_count": 10,
   "metadata": {},
   "outputs": [],
   "source": [
    "import json\n",
    "import numpy as np\n",
    "\n",
    "test_ids = json.load(open(\"./data/test_ids.json\"))\n",
    "id_meta_map = json.load(open(\"./data/cloth_body_face_meta.json\"))"
   ]
  },
  {
   "cell_type": "code",
   "execution_count": 11,
   "metadata": {},
   "outputs": [],
   "source": [
    "def get_cat_attr_mask(cat_code, attr_code):\n",
    "    cat_attr_mask = np.zeros((len(cat_code), len(attr_code)), dtype=np.float)\n",
    "    cat_attr_map = json.load(open(\"./data/clothes_category_attribute_value.json\"))\n",
    "    for cat, res in cat_attr_map.items():\n",
    "        if cat not in cat_code:\n",
    "            continue\n",
    "        tmp_cat_code = cat_code[cat]\n",
    "        for each in res:\n",
    "            for attr, vals in each.items():\n",
    "                if attr not in attr_code:\n",
    "                    continue\n",
    "                tmp_attr_code = attr_code[attr]\n",
    "                cat_attr_mask[tmp_cat_code][tmp_attr_code] = 1\n",
    "\n",
    "    return cat_attr_mask\n",
    "\n",
    "cat_attr_mask = get_cat_attr_mask(cat_code, attr_code)"
   ]
  },
  {
   "cell_type": "code",
   "execution_count": 12,
   "metadata": {},
   "outputs": [],
   "source": [
    "cat_code = json.load(open(\"./data/code_cat.json\"))\n",
    "attr_code = json.load(open(\"./data/code_attr.json\"))\n",
    "attr_val_code = json.load(open(\"./data/code_attr_val.json\"))\n",
    "occ_code = json.load(open(\"./data/code_occasion.json\"))\n",
    "cat_attr = json.load(open(\"./data/clothes_category_attribute_value.json\"))\n",
    "\n",
    "def rev(k_v):\n",
    "    res = {}\n",
    "    for k, v in k_v.items():\n",
    "        res[v] = k\n",
    "    return res\n",
    "\n",
    "code_occ = rev(occ_code)\n",
    "code_cat = rev(cat_code)\n",
    "code_attr = rev(attr_code)\n",
    "attr_code_val = {}\n",
    "for attr, res in attr_val_code.items():\n",
    "    attr_code_val[attr] = rev(res)"
   ]
  },
  {
   "cell_type": "code",
   "execution_count": 28,
   "metadata": {},
   "outputs": [],
   "source": [
    "def recover(attr_res, cat_res, cat_mask, occ_res, cat_attr_mask):   \n",
    "    occ = code_occ[occ_res]\n",
    "    cats = []\n",
    "    attrs = []\n",
    "    for i, m in enumerate(cat_mask.tolist()):\n",
    "        if m != 1:\n",
    "            break\n",
    "        else:\n",
    "            cat = code_cat[cat_res[i]]\n",
    "            cats.append(cat)\n",
    "            tmp_attrs = []\n",
    "            for j, mask in enumerate(cat_attr_mask[cat_res[i]].tolist()):\n",
    "                if mask == 1:\n",
    "                    tmp_attr = code_attr[j]\n",
    "                    val_code = attr_res[i][j]\n",
    "                    attr = \"%s:%s\" %(tmp_attr, attr_code_val[tmp_attr][val_code])\n",
    "                    tmp_attrs.append(attr)\n",
    "            attrs.append(tmp_attrs)\n",
    "                    \n",
    "    return occ, cats, attrs"
   ]
  },
  {
   "cell_type": "code",
   "execution_count": 29,
   "metadata": {},
   "outputs": [],
   "source": [
    "attr_res = np.load(\"./result/attr_val_res.npy\")\n",
    "cat_res = np.load(\"./result/cat_res.npy\")\n",
    "occ_res = np.load(\"./result/occ_res.npy\")\n",
    "cat_mask = np.load(\"./result/cat_mask.npy\")"
   ]
  },
  {
   "cell_type": "code",
   "execution_count": 37,
   "metadata": {},
   "outputs": [
    {
     "name": "stdout",
     "output_type": "stream",
     "text": [
      "(8060, 5, 8)\n",
      "8062\n"
     ]
    }
   ],
   "source": [
    "print(attr_res.shape)\n",
    "print(len(test_ids))"
   ]
  },
  {
   "cell_type": "code",
   "execution_count": 42,
   "metadata": {},
   "outputs": [],
   "source": [
    "import copy\n",
    "\n",
    "def generate_test_file(id_meta_map, test_ids, attr_res, cat_res, occ_res, cat_mask, cat_attr_mask):\n",
    "    test_res = {}\n",
    "    for i, img_id in enumerate(test_ids[0:len(attr_res)]):\n",
    "        tmp = id_meta_map[img_id]\n",
    "        occ, cats, attrs = recover(attr_res[i], cat_res[i], cat_mask[i], occ_res[i], cat_attr_mask)\n",
    "        \n",
    "        assert len(cats) == len(attrs)\n",
    "        assert len(cats) == len(id_meta_map[img_id][\"cloth_body_face\"])\n",
    "        \n",
    "        tmp_cont = copy.deepcopy(id_meta_map[img_id])\n",
    "        \n",
    "        for j, cloth in enumerate(id_meta_map[img_id][\"cloth_body_face\"]):\n",
    "            attr_val = {}\n",
    "            for each in attrs[j]:\n",
    "                each_attr, each_val = each.split(\":\")\n",
    "                attr_val[each_attr] = each_val\n",
    "            \n",
    "            cloth = cloth[\"cloth\"]\n",
    "            for k, v in cloth.items():\n",
    "                if k == \"category\":\n",
    "                    tmp_cont[\"cloth_body_face\"][j][\"cloth\"][\"category\"] = cats[j]\n",
    "                elif k == \"box\":\n",
    "                    continue\n",
    "                elif \":\" in k:\n",
    "                    attr, val = k.split(\":\")\n",
    "                    if attr not in attr_val:\n",
    "                        del tmp_cont[\"cloth_body_face\"][j][\"cloth\"][k]\n",
    "                        continue\n",
    "                    if val == attr_val[attr]:\n",
    "                        continue\n",
    "                    else:\n",
    "                        del tmp_cont[\"cloth_body_face\"][j][\"cloth\"][k]\n",
    "                        k = \":\".join([attr, attr_val[attr]])\n",
    "                        tmp_cont[\"cloth_body_face\"][j][\"cloth\"][k] = 123 \n",
    "        test_res[img_id] = tmp_cont\n",
    "                        \n",
    "    return test_res\n",
    "\n",
    "test_res = generate_test_file(id_meta_map, test_ids, attr_res, cat_res, occ_res, cat_mask, cat_attr_mask)"
   ]
  },
  {
   "cell_type": "code",
   "execution_count": 51,
   "metadata": {},
   "outputs": [],
   "source": [
    "json.dump(test_res, open(\"./result/test_cloth_body_meta.json\", \"w\"))"
   ]
  },
  {
   "cell_type": "code",
   "execution_count": 46,
   "metadata": {},
   "outputs": [
    {
     "name": "stdout",
     "output_type": "stream",
     "text": [
      "8060\n",
      "369d3e848144c3052f6480824f434b71\n",
      "1428da85ef675ff042a2c4e8211ff90c\n",
      "64c54e53c153e17fbcb608191b996103\n",
      "72b3b4cf06c0315e82e4be3799b326fa\n",
      "142eb3089b93c4d8eb27f97b323eb259\n",
      "1d59fec94ab3e2c9f799397ae459e7e9\n",
      "5350fc4a5a7904228d4bead20258a6ff\n",
      "6997532374da952ee6c8c98f8862fcb0\n",
      "181ce2a1082b28a7fdcb8c8c0c6e586e\n",
      "521c9cb249d37225ae52e6d3e558aa5c\n"
     ]
    }
   ],
   "source": [
    "print(len(test_res))\n",
    "for i in range(10):\n",
    "    print(test_ids[i])"
   ]
  },
  {
   "cell_type": "code",
   "execution_count": 50,
   "metadata": {
    "collapsed": true
   },
   "outputs": [
    {
     "name": "stdout",
     "output_type": "stream",
     "text": [
      "{\n",
      "    \"admin1\": \"Mugla\",\n",
      "    \"month\": 11,\n",
      "    \"weekday\": 1,\n",
      "    \"indoor_outdoor\": \"indoor\",\n",
      "    \"body_face_cloth\": [\n",
      "        {\n",
      "            \"age\": 24,\n",
      "            \"gender\": \"F\",\n",
      "            \"face\": [\n",
      "                236.2800312936306,\n",
      "                84.17651210725307,\n",
      "                317.2859801352024,\n",
      "                171.4812659882009,\n",
      "                0.9998173117637634\n",
      "            ],\n",
      "            \"clothes\": [\n",
      "                {\n",
      "                    \"box\": [\n",
      "                        160,\n",
      "                        154,\n",
      "                        512,\n",
      "                        385\n",
      "                    ],\n",
      "                    \"upper_body_length:hip_length\": 1,\n",
      "                    \"closure_type:pullover\": 1,\n",
      "                    \"category\": \"upper_body_garment__sweater\",\n",
      "                    \"product_color:yellow\": 1,\n",
      "                    \"sleeve_style:straight\": 1,\n",
      "                    \"sleeve_length:long\": 1,\n",
      "                    \"neckline:off_shoulder\": 1\n",
      "                },\n",
      "                {\n",
      "                    \"category\": \"lower_body_garment__skirt\",\n",
      "                    \"box\": [\n",
      "                        204,\n",
      "                        333,\n",
      "                        440,\n",
      "                        544\n",
      "                    ],\n",
      "                    \"dress_skirt_shape:a_line\": 0.8835218548774719,\n",
      "                    \"lower_body_length:calf_length\": 0.8759360909461975,\n",
      "                    \"product_color:brown\": 0.1579809933900833\n",
      "                }\n",
      "            ],\n",
      "            \"body\": [\n",
      "                159.9687042236328,\n",
      "                84.1405944824219,\n",
      "                520.0184783935547,\n",
      "                535.3902893066406\n",
      "            ]\n",
      "        },\n",
      "        {\n",
      "            \"age\": 24,\n",
      "            \"gender\": \"F\",\n",
      "            \"face\": [\n",
      "                236.2800312936306,\n",
      "                84.17651210725307,\n",
      "                317.2859801352024,\n",
      "                171.4812659882009,\n",
      "                0.9998173117637634\n",
      "            ],\n",
      "            \"clothes\": [],\n",
      "            \"body\": [\n",
      "                159.9687042236328,\n",
      "                84.1405944824219,\n",
      "                520.0184783935547,\n",
      "                535.3902893066406\n",
      "            ]\n",
      "        }\n",
      "    ],\n",
      "    \"scene_cat\": \"clothing_store\",\n",
      "    \"hour\": 11,\n",
      "    \"scene_attrs\": [\n",
      "        \"no horizon\",\n",
      "        \"man-made\",\n",
      "        \"cloth\",\n",
      "        \"enclosed area\",\n",
      "        \"natural light\",\n",
      "        \"open area\",\n",
      "        \"cold\",\n",
      "        \"working\",\n",
      "        \"matte\"\n",
      "    ],\n",
      "    \"text\": \"\",\n",
      "    \"country\": \"TR\",\n",
      "    \"latitude\": null,\n",
      "    \"admin2\": \"Fethiye\",\n",
      "    \"occasion\": \"shopping\",\n",
      "    \"longitude\": null,\n",
      "    \"cloth_body_face\": [\n",
      "        {\n",
      "            \"gender\": \"F\",\n",
      "            \"cloth\": {\n",
      "                \"upper_body_length:crop\": 123,\n",
      "                \"box\": [\n",
      "                    160,\n",
      "                    154,\n",
      "                    512,\n",
      "                    385\n",
      "                ],\n",
      "                \"closure_type:pullover\": 1,\n",
      "                \"sleeve_length:three_quarter\": 123,\n",
      "                \"category\": \"upper_body_garment__shirt\",\n",
      "                \"product_color:yellow\": 1,\n",
      "                \"sleeve_style:other\": 123,\n",
      "                \"neckline:off_shoulder\": 1\n",
      "            },\n",
      "            \"face\": [\n",
      "                236.2800312936306,\n",
      "                84.17651210725307,\n",
      "                317.2859801352024,\n",
      "                171.4812659882009,\n",
      "                0.9998173117637634\n",
      "            ],\n",
      "            \"age\": 24,\n",
      "            \"body\": [\n",
      "                159.9687042236328,\n",
      "                84.1405944824219,\n",
      "                520.0184783935547,\n",
      "                535.3902893066406\n",
      "            ]\n",
      "        },\n",
      "        {\n",
      "            \"gender\": \"F\",\n",
      "            \"cloth\": {\n",
      "                \"category\": \"lower_body_garment__skirt\",\n",
      "                \"box\": [\n",
      "                    204,\n",
      "                    333,\n",
      "                    440,\n",
      "                    544\n",
      "                ],\n",
      "                \"dress_skirt_shape:a_line\": 0.8835218548774719,\n",
      "                \"lower_body_length:extra_short\": 123,\n",
      "                \"product_color:brown\": 0.1579809933900833\n",
      "            },\n",
      "            \"face\": [\n",
      "                236.2800312936306,\n",
      "                84.17651210725307,\n",
      "                317.2859801352024,\n",
      "                171.4812659882009,\n",
      "                0.9998173117637634\n",
      "            ],\n",
      "            \"age\": 24,\n",
      "            \"body\": [\n",
      "                159.9687042236328,\n",
      "                84.1405944824219,\n",
      "                520.0184783935547,\n",
      "                535.3902893066406\n",
      "            ]\n",
      "        }\n",
      "    ]\n",
      "}\n"
     ]
    }
   ],
   "source": [
    "print(json.dumps(test_res[\"72b3b4cf06c0315e82e4be3799b326fa\"], indent=4))"
   ]
  },
  {
   "cell_type": "code",
   "execution_count": 19,
   "metadata": {
    "scrolled": true
   },
   "outputs": [
    {
     "name": "stdout",
     "output_type": "stream",
     "text": [
      "80841ab1c61ad87b49591098d3b38958\n",
      "occ is:  conference\n",
      "cat is:  full_body_garment__dress\n",
      "x 176.0\n",
      "attr lower_body_length:7_8 val 0.5515718460083008\n",
      "attr sleeve_style:na val 0.5960307717323303\n",
      "attr product_color:purple val 0.17167992889881134\n",
      "attr neckline:round_neck val 0.34016111493110657\n",
      "attr sleeve_length:sleeveless val 0.931877374649048\n",
      "attr dress_skirt_shape:a_line val 0.9843226075172424\n"
     ]
    }
   ],
   "source": [
    "id_ = 27\n",
    "print(test_ids[id_])\n",
    "grd = id_meta_map[test_ids[id_]]\n",
    "print(\"occ is: \", grd[\"occasion\"])\n",
    "for each in grd[\"cloth_body_face\"]:\n",
    "    print(\"cat is: \", each[\"cloth\"][\"category\"])\n",
    "    print(\"x\", (each[\"cloth\"][\"box\"][0]+each[\"cloth\"][\"box\"][2])/2)\n",
    "    for k, v in each[\"cloth\"].items():\n",
    "        if k not in [\"box\", \"category\"]:\n",
    "            print(\"attr\", k, \"val\", v)"
   ]
  },
  {
   "cell_type": "code",
   "execution_count": 20,
   "metadata": {},
   "outputs": [
    {
     "name": "stdout",
     "output_type": "stream",
     "text": [
      "occ is: prom\n",
      "cat is: full_body_garment__dress\n",
      "\n",
      "dress_skirt_shape:a_line\n",
      "lower_body_length:knee_length\n",
      "neckline:v_neck\n",
      "product_color:pink\n",
      "sleeve_length:sleeveless\n",
      "sleeve_style:na\n"
     ]
    }
   ],
   "source": [
    "occ, cat, attrs = recover(attr_res[id_], cat_res[id_], cat_mask[id_], occ_res[id_], cat_attr_mask)\n",
    "print(\"occ is: %s\\ncat is: %s\\n\" %(occ, cat))\n",
    "for attr in attrs:\n",
    "    print(attr)"
   ]
  }
 ],
 "metadata": {
  "kernelspec": {
   "display_name": "Python 3",
   "language": "python",
   "name": "python3"
  },
  "language_info": {
   "codemirror_mode": {
    "name": "ipython",
    "version": 3
   },
   "file_extension": ".py",
   "mimetype": "text/x-python",
   "name": "python",
   "nbconvert_exporter": "python",
   "pygments_lexer": "ipython3",
   "version": "3.5.5"
  }
 },
 "nbformat": 4,
 "nbformat_minor": 2
}
