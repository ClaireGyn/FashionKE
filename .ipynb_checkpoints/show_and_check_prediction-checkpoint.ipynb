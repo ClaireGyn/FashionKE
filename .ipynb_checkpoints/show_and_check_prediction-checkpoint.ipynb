{
 "cells": [
  {
   "cell_type": "code",
   "execution_count": 1,
   "metadata": {},
   "outputs": [],
   "source": [
    "import json\n",
    "import numpy as np\n",
    "\n",
    "test_ids = json.load(open(\"./data/test_ids.json\"))\n",
    "id_meta_map = json.load(open(\"./data/cloth_body_face_meta.json\"))"
   ]
  },
  {
   "cell_type": "code",
   "execution_count": null,
   "metadata": {},
   "outputs": [],
   "source": [
    "def get_cat_attr_mask(cat_code, attr_code):\n",
    "    cat_attr_mask = np.zeros((len(cat_code), len(attr_code)), dtype=np.float)\n",
    "    cat_attr_map = json.load(open(\"./data/clothes_category_attribute_value.json\"))\n",
    "    for cat, res in cat_attr_map.items():\n",
    "        if cat not in cat_code:\n",
    "            continue\n",
    "        tmp_cat_code = cat_code[cat]\n",
    "        for each in res:\n",
    "            for attr, vals in each.items():\n",
    "                if attr not in attr_code:\n",
    "                    continue\n",
    "                tmp_attr_code = attr_code[attr]\n",
    "                cat_attr_mask[tmp_cat_code][tmp_attr_code] = 1\n",
    "\n",
    "    return cat_attr_mask\n",
    "\n",
    "cat_attr_mask = get_cat_attr_mask(cat_code, attr_code)"
   ]
  },
  {
   "cell_type": "code",
   "execution_count": 3,
   "metadata": {},
   "outputs": [],
   "source": [
    "cat_code = json.load(open(\"./data/code_cat.json\"))\n",
    "attr_code = json.load(open(\"./data/code_attr.json\"))\n",
    "attr_val_code = json.load(open(\"./data/code_attr_val.json\"))\n",
    "occ_code = json.load(open(\"./data/code_occasion.json\"))\n",
    "cat_attr = json.load(open(\"./data/clothes_category_attribute_value.json\"))"
   ]
  },
  {
   "cell_type": "code",
   "execution_count": 39,
   "metadata": {},
   "outputs": [],
   "source": [
    "def recover(attr_res, cat_res, cat_mask, occ_res, cat_attr_mask):\n",
    "    def rev(k_v):\n",
    "        res = {}\n",
    "        for k,v in k_v.items():\n",
    "            res[v] = k\n",
    "        return res\n",
    "\n",
    "    code_occ = rev(occ_code)\n",
    "    code_cat = rev(cat_code)\n",
    "    code_attr = rev(attr_code)\n",
    "    attr_code_val = {}\n",
    "    for attr, res in attr_val_code.items():\n",
    "        attr_code_val[attr] = rev(res)\n",
    "        \n",
    "    print(\"occ is: \", code_occ[occ_res])\n",
    "    for i, m in enumerate(cat_mask.tolist()):\n",
    "        if m != 1:\n",
    "            break\n",
    "        else:\n",
    "            cat = code_cat[cat_res[i]]\n",
    "            print(\"cat is: \", cat)\n",
    "            for j, mask in enumerate(cat_attr_mask[cat_res[i]].tolist()):\n",
    "                if mask == 1:\n",
    "                    tmp_attr = code_attr[j]\n",
    "                    val_code = attr_res[i][j]\n",
    "                    print(\"attr %s:%s\" %(tmp_attr, attr_code_val[tmp_attr][val_code]))"
   ]
  },
  {
   "cell_type": "code",
   "execution_count": 40,
   "metadata": {},
   "outputs": [],
   "source": [
    "attr_res = np.load(\"./result/attr_val_res.npy\")\n",
    "cat_res = np.load(\"./result/cat_res.npy\")\n",
    "occ_res = np.load(\"./result/occ_res.npy\")\n",
    "cat_mask = np.load(\"./result/cat_mask.npy\")"
   ]
  },
  {
   "cell_type": "code",
   "execution_count": 102,
   "metadata": {
    "scrolled": true
   },
   "outputs": [
    {
     "name": "stdout",
     "output_type": "stream",
     "text": [
      "80841ab1c61ad87b49591098d3b38958\n",
      "occ is:  conference\n",
      "cat is:  full_body_garment__dress\n",
      "x 176.0\n",
      "attr product_color:purple val 0.17167992889881134\n",
      "attr sleeve_length:sleeveless val 0.931877374649048\n",
      "attr sleeve_style:na val 0.5960307717323303\n",
      "attr lower_body_length:7_8 val 0.5515718460083008\n",
      "attr dress_skirt_shape:a_line val 0.9843226075172424\n",
      "attr neckline:round_neck val 0.34016111493110657\n"
     ]
    }
   ],
   "source": [
    "id_ = 27\n",
    "print(test_ids[id_])\n",
    "grd = id_meta_map[test_ids[id_]]\n",
    "print(\"occ is: \", grd[\"occasion\"])\n",
    "for each in grd[\"cloth_body_face\"]:\n",
    "    print(\"cat is: \", each[\"cloth\"][\"category\"])\n",
    "    print(\"x\", (each[\"cloth\"][\"box\"][0]+each[\"cloth\"][\"box\"][2])/2)\n",
    "    for k, v in each[\"cloth\"].items():\n",
    "        if k not in [\"box\", \"category\"]:\n",
    "            print(\"attr\", k, \"val\", v)"
   ]
  },
  {
   "cell_type": "code",
   "execution_count": 103,
   "metadata": {},
   "outputs": [
    {
     "name": "stdout",
     "output_type": "stream",
     "text": [
      "occ is:  prom\n",
      "cat is:  full_body_garment__dress\n",
      "attr dress_skirt_shape:a_line\n",
      "attr lower_body_length:full_length\n",
      "attr neckline:halter_neck\n",
      "attr product_color:red\n",
      "attr sleeve_length:sleeveless\n",
      "attr sleeve_style:na\n"
     ]
    }
   ],
   "source": [
    "recover(attr_res[id_], cat_res[id_], cat_mask[id_], occ_res[id_], cat_attr_mask)"
   ]
  },
  {
   "cell_type": "code",
   "execution_count": null,
   "metadata": {},
   "outputs": [],
   "source": []
  }
 ],
 "metadata": {
  "kernelspec": {
   "display_name": "Python 3",
   "language": "python",
   "name": "python3"
  },
  "language_info": {
   "codemirror_mode": {
    "name": "ipython",
    "version": 3
   },
   "file_extension": ".py",
   "mimetype": "text/x-python",
   "name": "python",
   "nbconvert_exporter": "python",
   "pygments_lexer": "ipython3",
   "version": "3.5.5"
  }
 },
 "nbformat": 4,
 "nbformat_minor": 2
}
